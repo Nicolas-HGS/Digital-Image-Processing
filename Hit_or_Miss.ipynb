{
  "nbformat": 4,
  "nbformat_minor": 0,
  "metadata": {
    "colab": {
      "provenance": [],
      "authorship_tag": "ABX9TyOKj5izC/8obqew3wVwPhow",
      "include_colab_link": true
    },
    "kernelspec": {
      "name": "python3",
      "display_name": "Python 3"
    },
    "language_info": {
      "name": "python"
    }
  },
  "cells": [
    {
      "cell_type": "markdown",
      "metadata": {
        "id": "view-in-github",
        "colab_type": "text"
      },
      "source": [
        "<a href=\"https://colab.research.google.com/github/Nicolas-HGS/Images-Digital-Processing/blob/main/Hit_or_Miss.ipynb\" target=\"_parent\"><img src=\"https://colab.research.google.com/assets/colab-badge.svg\" alt=\"Open In Colab\"/></a>"
      ]
    },
    {
      "cell_type": "code",
      "execution_count": 43,
      "metadata": {
        "id": "Jp0DoPgLRmER"
      },
      "outputs": [],
      "source": [
        "# Importing libraries\n",
        "\n",
        "import cv2\n",
        "import numpy\n",
        "from matplotlib import pyplot as plt\n",
        "\n",
        "# DEFINE THE VARIABLE imagem LIKE A NDARRAY (N-DIMENSIONAL ARRAY) FROM UPLOADING THE CONTAINED IMAGE\n",
        "# IN THE FILE \"imagem_32.jpg\" IN MODE \"grayscale\"\n",
        "\n",
        "imagem = cv2.imread(\"imagem_32.jpg\", cv2.IMREAD_GRAYSCALE)"
      ]
    },
    {
      "cell_type": "code",
      "source": [
        "# Creating a variable for undergo the first erosion process\n",
        "# Note that borders have been added to the images and all pixels have an intensity of 255,\n",
        "# since the technique looks for the lowest pixels intensities values scanning the image,\n",
        "# and, this way, edge values will not influence\n",
        "\n",
        "imagem_transformada = 255*numpy.ones((imagem.shape[0]+2,imagem.shape[1]+2), dtype = 'uint8')\n",
        "\n",
        "# Assigns the content of the imagem variable to the internal part of the imagem_transformada variable\n",
        "\n",
        "imagem_transformada[1:-1,1:-1] = imagem\n",
        "\n",
        "# Creation of a variable for auxiliate in the first erosion process, which will not suffer alteration while\n",
        "# the process is performed\n",
        "\n",
        "imagem_1 = imagem_transformada.copy()"
      ],
      "metadata": {
        "id": "RjaA8LJs1ysO"
      },
      "execution_count": 44,
      "outputs": []
    },
    {
      "cell_type": "code",
      "source": [
        "# Creating a variable for undergo the second erosion process\n",
        "\n",
        "imagem_transformada_2 = 255*numpy.ones((imagem.shape[0]+2,imagem.shape[1]+2), dtype = 'uint8')\n",
        "\n",
        "# Assigns the complement of imagem variable to the internal part of the imagem_transformada_2 variable\n",
        "\n",
        "imagem_transformada_2[1:-1,1:-1] = ~imagem\n",
        "\n",
        "# Creation of a variable for auxiliate in the second erosion process, which will not suffer alteration while\n",
        "# the process is performed\n",
        "\n",
        "imagem_2 = imagem_transformada_2.copy()"
      ],
      "metadata": {
        "id": "HAlS0yRGk0dg"
      },
      "execution_count": 45,
      "outputs": []
    },
    {
      "cell_type": "code",
      "source": [
        "# Creation of the first structuring element for the process of erosion of the imagem_transformada variable\n",
        "\n",
        "elemento_estruturante_1 = numpy.array([\n",
        "    [0,1,0],\n",
        "    [1,0,1],\n",
        "    [0,1,0]\n",
        "])\n",
        "\n",
        "# Creation of the second structuring element for the process of erosion of the imagem_transformada_2 variable\n",
        "\n",
        "elemento_estruturante_2 = numpy.array([\n",
        "    [0,0,0],\n",
        "    [0,1,0],\n",
        "    [0,0,0]\n",
        "])"
      ],
      "metadata": {
        "id": "ODlVQlIY2FvF"
      },
      "execution_count": 46,
      "outputs": []
    },
    {
      "cell_type": "code",
      "source": [
        "# List which stores the values of the multiplications performed between the elements of the structuring\n",
        "# element and the intensity values of the image pixels\n",
        "\n",
        "lista_de_produtos = []\n",
        "\n",
        "# Creation of the loop for the execution of the erosion technique in the variable imagem_transformada\n",
        "\n",
        "# Scan the columns, observe the start and the end of the scan interval and try to understand why\n",
        "for y in range(1, imagem_transformada.shape[1]-1):\n",
        "    # Scan the rows, observe the start and the end of the scan interval and try to understand why\n",
        "    for x in range(1, imagem_transformada.shape[0]-1):\n",
        "\n",
        "        # Loops for performing the multiplication between elements of the structuring element\n",
        "        # and pixels intensities\n",
        "\n",
        "        for y_elemen_1 in range(-1, 2):\n",
        "            for x_elemen_1 in range(-1, 2):\n",
        "                # Selects the pixel intensity that will be multiplied by its position\n",
        "                a = (imagem_1[x + x_elemen_1, y + y_elemen_1])\n",
        "                # Selects the corresponding element of the structuring element in relation to the pixel\n",
        "                # to perform the multiplication\n",
        "                b = (elemento_estruturante_1[x_elemen_1+1, y_elemen_1+1])\n",
        "                # Checks if the element of the structuring element is different from zero\n",
        "                # to perform the multiplication\n",
        "                # The positions where the elements of the structuring element are differents\n",
        "                # from zero are those where the pattern is being sought\n",
        "                if b != 0:\n",
        "                  # Stores the multiplication between the mask element\n",
        "                  # and the intensity of the selected pixel\n",
        "                  lista_de_produtos.append(a*b)\n",
        "\n",
        "        ## Assigns to the current pixel of the scan the smallest value found\n",
        "        ## in the multiplication between the elements of the elements of the structuring element\n",
        "        # and the intensities of the pixels around the current puxel, including it\n",
        "\n",
        "        imagem_transformada[x,y] = min(lista_de_produtos)\n",
        "        lista_de_produtos = [] # Empty the lista_de_produtos variable for the next iteration"
      ],
      "metadata": {
        "id": "SRj77DZy293r"
      },
      "execution_count": 47,
      "outputs": []
    },
    {
      "cell_type": "code",
      "source": [
        "# Creation of the loop for the execution of the erosion technique in the variable imagem_transformada_2\n",
        "\n",
        "# Scan the columns, observe the start and the end of the scan interval and try to understand why\n",
        "for y in range(1, imagem_transformada_2.shape[1]-1):\n",
        "    # Scan the rows, observe the start and the end of the scan interval and try to understand why\n",
        "    for x in range(1, imagem_transformada_2.shape[0]-1):\n",
        "\n",
        "        # Loops for performing the multiplication between elements of the structuring element\n",
        "        # and pixels intensities\n",
        "\n",
        "        for y_elemen_2 in range(-1, 2):\n",
        "            for x_elemen_2 in range(-1, 2):\n",
        "                # Selects the pixel intensity that will be multiplied by its position\n",
        "                a = (imagem_2[x + x_elemen_2, y + y_elemen_2])\n",
        "                # Selects the corresponding element of the structuring element in relation to the pixel\n",
        "                # to perform the multiplication\n",
        "                b = (elemento_estruturante_2[x_elemen_2+1, y_elemen_2+1])\n",
        "                # Checks if the element of the structuring element is different from zero\n",
        "                # to perform the multiplication\n",
        "                # The positions where the elements of the structuring element are differents\n",
        "                # from zero are those where the pattern is being sought\n",
        "                if b != 0:\n",
        "                  # Stores the multiplication between the element of the structuring element\n",
        "                  # and the intensity of the selected pixel\n",
        "                  lista_de_produtos.append(a*b)\n",
        "\n",
        "        ## Assigns to the current pixel of the scan the smallest value found in the multiplication between the\n",
        "        ## elements of the structuring element and the intensities of the pixels around the current puxel, including it\n",
        "        imagem_transformada_2[x,y] = min(lista_de_produtos)\n",
        "        lista_de_produtos = [] # Empty the lista_de_produtos variable for the next iteration"
      ],
      "metadata": {
        "id": "iQ1PIkrWpBIB"
      },
      "execution_count": 48,
      "outputs": []
    },
    {
      "cell_type": "code",
      "source": [
        "# Finalization of the hit-or-miss operation through the and operation between the two previously eroded images\n",
        "\n",
        "imagemfinal = imagem_transformada[1:-1,1:-1] & imagem_transformada_2[1:-1,1:-1]"
      ],
      "metadata": {
        "id": "oh97naRGsGGV"
      },
      "execution_count": 49,
      "outputs": []
    },
    {
      "cell_type": "code",
      "source": [
        "# Construction of the kernel to obtain the hit-or-miss transform by the opencv library function, observe that when\n",
        "#it is necessary to find the zero element in the desired pattern, its representation in the kernel is -1\n",
        "\n",
        "kernel = numpy.array((\n",
        "        [0, 1, 0],\n",
        "        [1, -1, 1],\n",
        "        [0, 1, 0]), dtype=\"int\")\n",
        "\n",
        "# Creation of a variable containing the hit-or-miss transform by the library function\n",
        "\n",
        "hit_or_miss_biblioteca = cv2.morphologyEx(imagem, cv2.MORPH_HITMISS, kernel)"
      ],
      "metadata": {
        "id": "55FH9q9F3EP-"
      },
      "execution_count": 50,
      "outputs": []
    },
    {
      "cell_type": "code",
      "source": [
        "# Print the root mean squared error between the image obtained by the implemented code and the\n",
        "# image obtained by the library function\n",
        "\n",
        "# Difference between the intensities of the pixels from the obtained image by the implemented code and the\n",
        "# image obtained by the libary function\n",
        "\n",
        "Diferenca_imagens = numpy.subtract(imagemfinal,hit_or_miss_biblioteca)\n",
        "\n",
        "Soma_elementos = numpy.sum(Diferenca_imagens) # Sum of the differences of the intensities\n",
        "\n",
        "# Calculate the average of the sum of the differences of the intensities\n",
        "\n",
        "Media = Soma_elementos/(imagemfinal.shape[0]*imagemfinal.shape[1])\n",
        "\n",
        "Raiz = numpy.sqrt(Media) # Calculate the root\n",
        "\n",
        "print(Raiz)"
      ],
      "metadata": {
        "colab": {
          "base_uri": "https://localhost:8080/"
        },
        "id": "bnurzy9f3JuO",
        "outputId": "a4bc0d34-5adb-41ec-e97a-9b79e311e987"
      },
      "execution_count": 51,
      "outputs": [
        {
          "output_type": "stream",
          "name": "stdout",
          "text": [
            "0.0\n"
          ]
        }
      ]
    },
    {
      "cell_type": "code",
      "source": [
        "# SET FIGURE SIZE IN INCHES, ADJUSTING THE DISPLAYED WIDGHT AND THE HEIGHT\n",
        "\n",
        "figura = plt.figure(figsize=(20, 20))\n",
        "\n",
        "# DEFINING THE DISPLAY FORM WITH FOUR IMAGES SIDE BY SIDE\n",
        "\n",
        "linhas = 4\n",
        "colunas = 1\n",
        "\n",
        "# CREATING THE FIRST SUBPLOT TO BE DISPLAYED\n",
        "\n",
        "figura.add_subplot(linhas, colunas, 1)  # SUBPLOT POSITION\n",
        "# Defines the data that will be displayed as an image, and in this case, a monochrome image due to cmap='gray'\n",
        "plt.imshow(imagem, cmap = 'gray')\n",
        "# Desables values displayed on numerics axes\n",
        "plt.axis('off')\n",
        "plt.title(\"Original Image\") # Image Title\n",
        "\n",
        "# CREATING THE SECOND SUBPLOT TO BE DISPLAYED IN THE SAME WAY AS THE PREVIOUS\n",
        "\n",
        "figura.add_subplot(linhas, colunas, 2)\n",
        "plt.imshow(kernel, cmap = 'gray')\n",
        "plt.axis('off')\n",
        "plt.title(\"Kernel\")\n",
        "\n",
        "# CREATING THE THIRD SUBPLOT TO BE DISPLAYED IN THE SAME WAY AS THE PREVIOUS\n",
        "\n",
        "figura.add_subplot(linhas, colunas, 3)\n",
        "plt.imshow(imagemfinal, cmap = 'gray')\n",
        "plt.axis('off')\n",
        "plt.title(\"Hit-or-miss transform\")\n",
        "\n",
        "# CREATING THE FOURTH SUBPLOT TO BE DISPLAYED IN THE SAME WAY AS THE PREVIOUS\n",
        "\n",
        "figura.add_subplot(linhas, colunas, 4)\n",
        "plt.imshow(hit_or_miss_biblioteca, cmap = 'gray')\n",
        "plt.axis('off')\n",
        "plt.title(\"Library function\")\n",
        "\n",
        "# SUBPLOTS DISPLAY\n",
        "\n",
        "plt.show()"
      ],
      "metadata": {
        "colab": {
          "base_uri": "https://localhost:8080/",
          "height": 1000
        },
        "id": "TuLzXuh43L8n",
        "outputId": "6d3bf465-edb8-44a4-e562-fbc8aa554cfc"
      },
      "execution_count": 54,
      "outputs": [
        {
          "output_type": "display_data",
          "data": {
            "text/plain": [
              "<Figure size 2000x2000 with 4 Axes>"
            ],
            "image/png": "[encoded data removed]"
          },
          "metadata": {}
        }
      ]
    }
  ]
}