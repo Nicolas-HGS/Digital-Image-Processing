{
  "nbformat": 4,
  "nbformat_minor": 0,
  "metadata": {
    "colab": {
      "provenance": [],
      "authorship_tag": "ABX9TyMiC/P5Na0DkGiqKWjI06Md",
      "include_colab_link": true
    },
    "kernelspec": {
      "name": "python3",
      "display_name": "Python 3"
    },
    "language_info": {
      "name": "python"
    }
  },
  "cells": [
    {
      "cell_type": "markdown",
      "metadata": {
        "id": "view-in-github",
        "colab_type": "text"
      },
      "source": [
        "<a href=\"https://colab.research.google.com/github/Nicolas-HGS/Images-Digital-Processing/blob/main/Import%2C_write_and_illustrate_images_with_the_python_language.ipynb\" target=\"_parent\"><img src=\"https://colab.research.google.com/assets/colab-badge.svg\" alt=\"Open In Colab\"/></a>"
      ]
    },
    {
      "cell_type": "code",
      "execution_count": null,
      "metadata": {
        "id": "M-y3uOh2vcLL"
      },
      "outputs": [],
      "source": [
        "######## STEP 1: Importation of the library\n",
        "\n",
        "import cv2\n",
        "\n",
        "######## STEP 2: Reading and uploading an image, remembering that the image must be in the same code page\n",
        "\n",
        "# the figure variable below becomes a ndarray (n-dimensional array) of the the colorido image, using the imread function\n",
        "# the contents of the figure variable are the color channels of the image, and these channels are made up of pixels\n",
        "\n",
        "figura = cv2.imread('colorido.jpg')\n",
        "\n",
        "######## STEP 3: Displaying an image\n",
        "\n",
        "# displays the image stored in the figure variable using the imshow function\n",
        "\n",
        "cv2.imshow(\"imagem_gerada\", figura)\n",
        "\n",
        "# The function below allows the displaying of the image until a keyd is pressed\n",
        "\n",
        "cv2.waitKey(0)\n",
        "\n",
        "######## STEP 4: Saving an image\n",
        "\n",
        "# saves the variable \"figura\" with the name \"imagem\" and jpg extension\n",
        "\n",
        "cv2.imwrite('imagem.jpg', figura)"
      ]
    }
  ]
}